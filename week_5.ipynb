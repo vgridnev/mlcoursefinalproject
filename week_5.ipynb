{
 "cells": [
  {
   "cell_type": "markdown",
   "metadata": {},
   "source": [
    "# Peer-graded Assignment: Эксперименты с моделью\n",
    "\n",
    "На прошлой неделе вы поучаствовали в соревновании на kaggle и, наверняка, большинство успешно справилось с прохождением baseline, а значит пора двигаться дальше - заняться оптимизацией модели, провести серию экспериментов и построить сильное финальное решения.\n",
    "\n",
    "В этом задании вам нужно провести ряд эскпериментов, оценить качество полученных в процессе экспериментирования моделей и выбрать лучшее решение. "
   ]
  },
  {
   "cell_type": "markdown",
   "metadata": {},
   "source": [
    "Задание будет оцениваться на основании загруженного jupyther notebook и развернутых ответов на поставленные вопросы."
   ]
  },
  {
   "cell_type": "markdown",
   "metadata": {},
   "source": [
    "## Инструкции"
   ]
  },
  {
   "cell_type": "code",
   "execution_count": 1,
   "metadata": {
    "collapsed": false
   },
   "outputs": [
    {
     "name": "stderr",
     "output_type": "stream",
     "text": [
      "/Users/vgridnev/anaconda/lib/python2.7/site-packages/sklearn/cross_validation.py:44: DeprecationWarning: This module was deprecated in version 0.18 in favor of the model_selection module into which all the refactored classes and functions are moved. Also note that the interface of the new CV iterators are different from that of this module. This module will be removed in 0.20.\n",
      "  \"This module will be removed in 0.20.\", DeprecationWarning)\n",
      "/Users/vgridnev/anaconda/lib/python2.7/site-packages/sklearn/learning_curve.py:23: DeprecationWarning: This module was deprecated in version 0.18 in favor of the model_selection module into which all the functions are moved. This module will be removed in 0.20\n",
      "  DeprecationWarning)\n"
     ]
    }
   ],
   "source": [
    "import functools\n",
    "\n",
    "import pandas as pd\n",
    "import numpy as np\n",
    "import seaborn as sns\n",
    "import matplotlib.pyplot as plt\n",
    "from sklearn.cross_validation import train_test_split as tts\n",
    "from sklearn import preprocessing as pr\n",
    "from sklearn.feature_extraction import DictVectorizer as DV\n",
    "from sklearn import metrics\n",
    "from sklearn import linear_model\n",
    "from sklearn import cross_validation\n",
    "from sklearn import ensemble\n",
    "from sklearn.learning_curve import learning_curve\n",
    "import warnings\n",
    "import xgboost as xgb\n",
    "warnings.simplefilter('ignore')\n",
    "\n",
    "%matplotlib inline\n",
    "\n",
    "def get_numerical_features(sdata):\n",
    "    features = set(sdata.columns) & set([(\"Var%d\" % i) for i in range(1, 191)])\n",
    "    return list(features)\n",
    "\n",
    "\n",
    "def get_categorial_features(sdata):\n",
    "    features = set(sdata.columns) & set([(\"Var%d\" % i) for i in range(191, 231)])\n",
    "    return list(features)\n",
    "\n",
    "\n",
    "def get_kaggle_data():\n",
    "    # считываем данные\n",
    "    churn_train_data = pd.read_csv('churn_train_data.csv')\n",
    "    labels = churn_train_data['labels']\n",
    "    churn_train_data = churn_train_data.drop(['labels', 'ID'], axis=1)\n",
    "    churn_test_data = pd.read_csv('churn_test_data.csv')\n",
    "    churn_test_data = churn_test_data.drop(['ID'], axis=1)\n",
    "    return churn_train_data, labels, churn_test_data\n",
    "\n",
    "\n",
    "def write_ans(values, file_name = None):\n",
    "    if file_name is None:\n",
    "        file_name = 'ans.csv'\n",
    "    # функция записи ответа\n",
    "    with open(file_name, 'w') as il:\n",
    "        il.write('ID,result\\n')\n",
    "        for (idx, element) in enumerate(values):\n",
    "            il.write(str(idx))\n",
    "            il.write(str(\",\"))\n",
    "            il.write(str(round(element, 10)))\n",
    "            il.write('\\n')"
   ]
  },
  {
   "cell_type": "code",
   "execution_count": 2,
   "metadata": {
    "collapsed": false
   },
   "outputs": [],
   "source": [
    "def process_numerical_features(sdata, ndata, fill_zero = None):\n",
    "    features = get_numerical_features(sdata)\n",
    "    for (idx, feature) in enumerate(features):\n",
    "        non_na = np.array(sdata[feature].dropna())\n",
    "        mean = non_na.mean()\n",
    "        if fill_zero:\n",
    "            sdata[feature].fillna(0, inplace=True)\n",
    "            ndata[feature].fillna(0, inplace=True)\n",
    "        else:\n",
    "            sdata[feature].fillna(mean, inplace=True)\n",
    "            ndata[feature].fillna(mean, inplace=True)\n",
    "\n",
    "    return sdata[features].as_matrix(), ndata[features].as_matrix()\n",
    "\n",
    "\n",
    "def remove_incomplete_features(sdata, ndata, features):\n",
    "    to_remove = set()\n",
    "    for feature in features:\n",
    "        nan_part = sum(sdata[feature].isnull()) / float(sdata.shape[0])\n",
    "        if nan_part > 0.9:\n",
    "            sdata = sdata.drop(feature, axis=1)\n",
    "            ndata = ndata.drop(feature, axis=1)\n",
    "            to_remove.add(feature)    \n",
    "    return sdata, ndata\n",
    "\n",
    "\n",
    "def apply_str(data):\n",
    "    features = get_categorial_features(data)\n",
    "    for feature in features:\n",
    "        data[feature] = data[feature].apply(lambda x: str(x))\n",
    "    return data[features]\n",
    "\n",
    "\n",
    "def one_hot(sdata, ndata):\n",
    "    encoder = DV(sparse = False)\n",
    "    sdata = encoder.fit_transform(sdata.T.to_dict().values())\n",
    "    ndata = encoder.transform(ndata.T.to_dict().values())\n",
    "    return sdata, ndata\n",
    "\n",
    "\n",
    "def label_encoder(sdata, ndata):\n",
    "    features = get_categorial_features(sdata)\n",
    "    for feature in features:\n",
    "        # применяем LabelEncoder на все строки\n",
    "        encoder = pr.LabelEncoder()\n",
    "        values = set(sdata[feature].values) | set(ndata[feature].values)\n",
    "        encoder.fit(list(values))\n",
    "        sdata[feature] = encoder.transform(sdata[feature])\n",
    "        ndata[feature] = encoder.transform(ndata[feature])\n",
    "    return sdata.as_matrix(), ndata.as_matrix()\n",
    "\n",
    "\n",
    "def filter_drop_less(sdata, ndata, **kwargs):\n",
    "    drop_less = kwargs.get('drop_less', 0)\n",
    "    features = get_categorial_features(sdata)\n",
    "    for feature in features:\n",
    "        vcounts = sdata[feature].value_counts()\n",
    "        sdata[feature] = sdata[feature].apply(lambda x: 'nan' if vcounts.get(x, 0) < drop_less else x)\n",
    "        ndata[feature] = ndata[feature].apply(lambda x: 'nan' if vcounts.get(x, 0) < drop_less else x)\n",
    "    return sdata, ndata\n",
    "\n",
    "\n",
    "def filter_by_top(sdata, ndata, **kwargs):\n",
    "    top = kwargs.get('top', 10)\n",
    "    features = get_categorial_features(sdata)\n",
    "    for feature in features:\n",
    "        vcounts = sdata[feature].value_counts()\n",
    "        vcounts = [(-vcounts[x], x) for x in vcounts.keys()]\n",
    "        vcounts = sorted(vcounts, key = lambda x: x[0])\n",
    "        vcounts = vcounts if len(vcounts) < top else vcounts[:top]\n",
    "        vcounts = set([name for cnt, name in vcounts])\n",
    "        \n",
    "        sdata[feature] = sdata[feature].apply(lambda x: x if x in vcounts else 'nan')\n",
    "        ndata[feature] = ndata[feature].apply(lambda x: x if x in vcounts else 'nan')\n",
    "    return sdata, ndata\n",
    "\n",
    "\n",
    "def process_categorial_features(sdata, ndata, filter_strategy = None, \n",
    "                                feature_encoder = None, **kwargs):\n",
    "    sdata, ndata = apply_str(sdata), apply_str(ndata)\n",
    "    features = get_categorial_features(sdata)\n",
    "    for feature in features:\n",
    "        if len(set(sdata[feature].values)) == 1:\n",
    "            # удаляем постоянные признаки\n",
    "            sdata = sdata.drop(feature, axis=1)\n",
    "            ndata = ndata.drop(feature, axis=1)\n",
    "    \n",
    "    filter_method = filter_by_top if filter_strategy == 'top' else filter_drop_less\n",
    "    sdata, ndata = filter_method(sdata, ndata, **kwargs)\n",
    "    \n",
    "    features = get_categorial_features(sdata)\n",
    "    sdata, ndata = sdata[features], ndata[features]\n",
    "    \n",
    "    feature_encoder = one_hot if feature_encoder == 'one_hot' else label_encoder\n",
    "    sdata, ndata = feature_encoder(sdata, ndata)\n",
    "\n",
    "    return sdata, ndata\n",
    "\n",
    "\n",
    "def prepare_train_data(sdata, ndata, labels, fill_zero = False, remove_incomplete = False, **kwargs):\n",
    "    if remove_incomplete:\n",
    "        # удаляем фичи в которых большее количество пустых ячеек\n",
    "        sdata, ndata = remove_incomplete_features(sdata, ndata, list(sdata.columns))\n",
    "    \n",
    "    # обрабатываем численные фичи\n",
    "    numerical_train_data, numerical_test_data = process_numerical_features(\n",
    "        sdata, ndata, fill_zero = fill_zero)\n",
    "\n",
    "    # обрабатываем категориальные признаки\n",
    "    categorial_train_data, categorial_test_data = process_categorial_features(\n",
    "        sdata, ndata, **kwargs)\n",
    "\n",
    "    prepared_train_data = np.concatenate([\n",
    "            numerical_train_data, categorial_train_data], axis=1)\n",
    "    prepared_test_data = np.concatenate([\n",
    "            numerical_test_data, categorial_test_data], axis=1)   \n",
    "    return prepared_train_data, np.array(labels), prepared_test_data\n",
    "\n",
    "\n",
    "def get_estimator(depth = 3, n_estimators = 100):\n",
    "    return xgb.XGBClassifier(\n",
    "        learning_rate=0.1, max_depth = 3, seed = 42, n_estimators = n_estimators, min_child_weight = 10)\n",
    "\n",
    "\n",
    "churn_train_data, labels, churn_test_data = get_kaggle_data()\n",
    "X, y, ansX = prepare_train_data(\n",
    "    churn_train_data, churn_test_data, labels, fill_zero = True,\n",
    "    filter_strategy = 'drop_less', feature_encoder = 'one_hot',\n",
    "    drop_less = 400)"
   ]
  },
  {
   "cell_type": "markdown",
   "metadata": {},
   "source": [
    "1\\. Начнем с простого. Давайте оценим как много объектов действительно нужно для построения качественной модели. Для обучения доступна достаточно большая выборка и может так оказаться, что начиная с некоторого момента рост размера обучающей выборки перестает влиять на качество модели. Постройте кривые обучения, обучая модель на выборках разного размера начиная с небольшого количество объектов в обучающей выборке и постепенно наращивая её размер с некоторым шагом. Обратите внимание на `sklearn.model_selection.learning_curve`"
   ]
  },
  {
   "cell_type": "code",
   "execution_count": 3,
   "metadata": {
    "collapsed": false
   },
   "outputs": [
    {
     "data": {
      "image/png": "[encoded data removed]",
      "text/plain": [
       "<matplotlib.figure.Figure at 0x115fea1d0>"
      ]
     },
     "metadata": {},
     "output_type": "display_data"
    }
   ],
   "source": [
    "def plot_learning_curve(estimator, X, y):\n",
    "    plt.figure()\n",
    "    plt.title(\"Learning curve\")\n",
    "    plt.xlabel(\"Training examples\")\n",
    "    plt.ylabel(\"Score\")\n",
    "    train_sizes, train_scores, test_scores = learning_curve(\n",
    "        estimator, X, y, cv=5, train_sizes=np.linspace(0.1, 1, 30), \n",
    "        scoring='roc_auc')\n",
    "    train_scores_mean = np.mean(train_scores, axis=1)\n",
    "    train_scores_std = np.std(train_scores, axis=1)\n",
    "    test_scores_mean = np.mean(test_scores, axis=1)\n",
    "    test_scores_std = np.std(test_scores, axis=1)\n",
    "    plt.fill_between(train_sizes, train_scores_mean - train_scores_std,\n",
    "                     train_scores_mean + train_scores_std, alpha=0.1,\n",
    "                     color=\"r\")\n",
    "    plt.fill_between(train_sizes, test_scores_mean - test_scores_std,\n",
    "                     test_scores_mean + test_scores_std, alpha=0.1, color=\"g\")\n",
    "    plt.plot(train_sizes, train_scores_mean, 'o-', color=\"r\",\n",
    "             label=\"Training score\")\n",
    "    plt.plot(train_sizes, test_scores_mean, 'o-', color=\"g\",\n",
    "             label=\"Cross-validation score\")\n",
    "    plt.legend(loc=\"best\")\n",
    "    plt.show()\n",
    "\n",
    "plot_learning_curve(get_estimator(n_estimators = 30), X, y)"
   ]
  },
  {
   "cell_type": "markdown",
   "metadata": {},
   "source": [
    "**Будем обучать модель на 30000 - 35000 элементах, так как качество на кросс-валидации растет**"
   ]
  },
  {
   "cell_type": "markdown",
   "metadata": {},
   "source": [
    "2\\. Часто несбалансированные по классам выборки приводят к различным проблемам при обучении моделей. Давайте попробуем по-разному обработать выборку, поиграть с распределением объектов по классам и сделать выводы о том, как соотношение классов влияет на качество модели.\n",
    "\n",
    "2.1\\. Задайте веса объектам так, чтобы соотношение классов с учетом весов объектов изменилось. Попробуйте не менее трёх различных вариантов весов. Меняются ли результаты классификации? Как это сказывается на качестве модели? Какой вариант выглядит наиболее оптимальным с точки зрения качества?"
   ]
  },
  {
   "cell_type": "code",
   "execution_count": 7,
   "metadata": {
    "collapsed": false
   },
   "outputs": [
    {
     "data": {
      "image/png": "[encoded data removed]",
      "text/plain": [
       "<matplotlib.figure.Figure at 0x13615ea50>"
      ]
     },
     "metadata": {},
     "output_type": "display_data"
    }
   ],
   "source": [
    "X_train, X_test, y_train, y_test = tts(X, y, random_state = 42, train_size = 25000)\n",
    "weights_sequence = range(1, 21, 2)\n",
    "precision, recall, roc_auc = [], [], []\n",
    "for weight in weights_sequence:\n",
    "    weights = [1 if y_train[x] == -1 else weight for x in range(X_train.shape[0])]\n",
    "    est = get_estimator(n_estimators = 100)\n",
    "    est.fit(X_train, y_train, sample_weight = weights)\n",
    "    pred = est.predict(X_test)\n",
    "    values = est.predict_proba(X_test)[:,1]\n",
    "    \n",
    "    roc_auc.append(metrics.roc_auc_score(y_test, values))\n",
    "    recall.append(metrics.recall_score(y_test, pred))\n",
    "    precision.append(metrics.precision_score(y_test, pred))\n",
    "\n",
    "plt.figure()\n",
    "plt.title(\"Scores\")\n",
    "plt.xlabel(\"Weight\")\n",
    "plt.ylabel(\"Value\")\n",
    "plt.plot(weights_sequence, roc_auc, 'o-', color=\"r\",\n",
    "         label=\"ROC_AUC\")\n",
    "plt.plot(weights_sequence, recall, 'o-', color=\"g\",\n",
    "         label=\"RECALL\")\n",
    "plt.plot(weights_sequence, precision, 'o-', color=\"b\",\n",
    "         label=\"PRECISION\")\n",
    "plt.legend(loc=\"best\")\n",
    "plt.show()"
   ]
  },
  {
   "cell_type": "markdown",
   "metadata": {},
   "source": [
    "**При увеличении веса, логично что Recall значение возрастает, но при этом страдает точность, при этом roc_auc почти не меняется. Поскольку нам в первую очередь нужно предсказывать отток-пользователей, следует выбрать в качестве веса значение 15.**"
   ]
  },
  {
   "cell_type": "markdown",
   "metadata": {},
   "source": [
    "2.2\\. Примените к выборке технологию undersampling: для этого нужно убрать из обучения некоторое количество объектов большего класса таким образом, чтобы соотношение классов изменилось. Попробуйте не менее трёх различных вариантов undersampling (варианты могут отличаться как по количество отфильтрованных объектов, так и по принципу выборка объектов для отсеивания из выборки). Меняются ли результаты классификации? Как это сказывается на качестве модели? Какой вариант выглядит наиболее оптимальным с точки зрения качества?"
   ]
  },
  {
   "cell_type": "code",
   "execution_count": 10,
   "metadata": {
    "collapsed": false
   },
   "outputs": [
    {
     "data": {
      "image/png": "[encoded data removed]",
      "text/plain": [
       "<matplotlib.figure.Figure at 0x131e7c4d0>"
      ]
     },
     "metadata": {},
     "output_type": "display_data"
    }
   ],
   "source": [
    "X_train, X_test, y_train, y_test = tts(X, y, random_state = 42, train_size = 25000)\n",
    "precision, recall, roc_auc = [], [], []\n",
    "for size in range(1000, 15000, 500):\n",
    "    np.random.seed(0)\n",
    "    indices = filter(lambda x: y_train[x] < 0, range(y_train.shape[0]))\n",
    "    not_churn_indices = np.array([np.random.choice(indices) for _ in range(size)])\n",
    "    churn_indices = filter(lambda x: y_train[x] > 0, range(y_train.shape[0]))\n",
    "    Xt = np.concatenate([\n",
    "                X_train[not_churn_indices,:],\n",
    "                X_train[churn_indices,:],\n",
    "            ], axis=0)\n",
    "    yt = np.concatenate([\n",
    "                y_train[not_churn_indices],\n",
    "                y_train[churn_indices],    \n",
    "            ], axis=0)\n",
    "    est = get_estimator(n_estimators = 100)\n",
    "    est.fit(Xt, yt)\n",
    "    pred = est.predict(X_test)\n",
    "    values = est.predict_proba(X_test)[:,1]\n",
    "    \n",
    "    roc_auc.append(metrics.roc_auc_score(y_test, values))\n",
    "    recall.append(metrics.recall_score(y_test, pred))\n",
    "    precision.append(metrics.precision_score(y_test, pred))\n",
    "\n",
    "plt.figure()\n",
    "plt.title(\"Scores\")\n",
    "plt.xlabel(\"Weight\")\n",
    "plt.ylabel(\"Value\")\n",
    "plt.plot(range(1000, 15000, 500), roc_auc, 'o-', color=\"r\",\n",
    "         label=\"ROC_AUC\")\n",
    "plt.plot(range(1000, 15000, 500), recall, 'o-', color=\"g\",\n",
    "         label=\"RECALL\")\n",
    "plt.plot(range(1000, 15000, 500), precision, 'o-', color=\"b\",\n",
    "         label=\"PRECISION\")\n",
    "plt.legend(loc=\"best\")\n",
    "plt.show()"
   ]
  },
  {
   "cell_type": "markdown",
   "metadata": {},
   "source": [
    "**Выводы аналогичны пред. пункту. Выбрать вес гораздо проще, будем пользоваться именно такой стратегией.**"
   ]
  },
  {
   "cell_type": "markdown",
   "metadata": {},
   "source": [
    "3\\. Теперь перейдем к работе с признаками. Ранее вы реализовали несколько стратегий для обработки пропущенных значений. Сравните эти стратегии между собой с помощью оценки качества моделей кросс-валидации, построенных на датасетах с использованием различных стратегий. Как обработка пропущенных значений сказывается на качестве модели? Какой вариант выглядит наиболее оптимальным с точки зрения качества?"
   ]
  },
  {
   "cell_type": "code",
   "execution_count": 30,
   "metadata": {
    "collapsed": false
   },
   "outputs": [
    {
     "name": "stdout",
     "output_type": "stream",
     "text": [
      "[ 0.73624535  0.74385136  0.7458617   0.73070047  0.74767307]\n",
      "0.740866390239\n",
      "[ 0.73624535  0.74385136  0.7458617   0.73070047  0.74767307]\n",
      "0.740866390239\n"
     ]
    }
   ],
   "source": [
    "est = get_estimator(n_estimators = 100)\n",
    "\n",
    "# Заполнение нулями\n",
    "\n",
    "churn_train_data, labels, churn_test_data = get_kaggle_data()\n",
    "X, y, ansX = prepare_train_data(\n",
    "    churn_train_data, churn_test_data, labels, fill_zero = True,\n",
    "    filter_strategy = 'drop_less', feature_encoder = 'one_hot',\n",
    "    drop_less = 400)\n",
    "cv = cross_validation.StratifiedKFold(y, random_state = 42, n_folds = 5)\n",
    "values = cross_validation.cross_val_score(est, X, y, cv = cv, scoring = 'roc_auc')\n",
    "print(values)\n",
    "print(values.mean())\n",
    "\n",
    "# Заполнение средним\n",
    "\n",
    "X, y, ansX = prepare_train_data(\n",
    "    churn_train_data, churn_test_data, labels, fill_zero = False,\n",
    "    filter_strategy = 'drop_less', feature_encoder = 'one_hot',\n",
    "    drop_less = 400)\n",
    "values = cross_validation.cross_val_score(est, X, y, cv = cv, scoring = 'roc_auc')\n",
    "print(values)\n",
    "print(values.mean())"
   ]
  },
  {
   "cell_type": "markdown",
   "metadata": {},
   "source": [
    "**Ожидаемо, никакой разницы чем заполнять пустые значения в таблице числовых признаков нет, так как используются решающие деревья.**"
   ]
  },
  {
   "cell_type": "markdown",
   "metadata": {},
   "source": [
    "4\\. Также вы уже реализовали несколько стратегий для обработки категориальных признаков. Сравните эти стратегии между собой с помощью оценки качества моделей по кросс-валидации, построенных на датасетах с использованием различных стратегий. Как обработка категориальных признаков сказывается на качестве модели? Какой вариант выглядит наиболее оптимальным с точки зрения качества?"
   ]
  },
  {
   "cell_type": "code",
   "execution_count": 20,
   "metadata": {
    "collapsed": false
   },
   "outputs": [
    {
     "name": "stdout",
     "output_type": "stream",
     "text": [
      "0.735751264407\n",
      "0.740563781073\n",
      "0.739390278066\n"
     ]
    }
   ],
   "source": [
    "est = get_estimator(n_estimators = 100)\n",
    "cv = cross_validation.StratifiedKFold(y, random_state = 42, n_folds = 3)\n",
    "\n",
    "# Label, Drop Less\n",
    "\n",
    "cv_scores = []\n",
    "X, y, ansX = prepare_train_data(\n",
    "    churn_train_data, churn_test_data, labels, fill_zero = False,\n",
    "    filter_strategy = 'drop_less', feature_encoder = 'label',\n",
    "    drop_less = 0)\n",
    "values = cross_validation.cross_val_score(est, X, y, cv = cv, scoring = 'roc_auc')\n",
    "print(values.mean())\n",
    "\n",
    "# One-Hot, Drop Less\n",
    "cv_scores = []\n",
    "X, y, ansX = prepare_train_data(\n",
    "    churn_train_data, churn_test_data, labels, fill_zero = False,\n",
    "    filter_strategy = 'drop_less', feature_encoder = 'one_hot',\n",
    "    drop_less = 400)\n",
    "values = cross_validation.cross_val_score(est, X, y, cv = cv, scoring = 'roc_auc')\n",
    "print(values.mean())\n",
    "\n",
    "# One-Hot, TOP X\n",
    "\n",
    "cv_scores = []\n",
    "X, y, ansX = prepare_train_data(\n",
    "    churn_train_data, churn_test_data, labels, fill_zero = False,\n",
    "    filter_strategy = 'top', feature_encoder = 'one_hot',\n",
    "    top = 10)\n",
    "values = cross_validation.cross_val_score(est, X, y, cv = cv, scoring = 'roc_auc')\n",
    "print(values.mean())"
   ]
  },
  {
   "cell_type": "markdown",
   "metadata": {},
   "source": [
    "Будем использовать one-hot, c drop less 400"
   ]
  },
  {
   "cell_type": "markdown",
   "metadata": {},
   "source": [
    "5\\. Все ли признаки оказались полезными для построения моделей? Проведите процедуру отбора признаков, попробуйте разные варианты отбора (обратите внимание на модуль `sklearn.feature_selection`). Например, можно выбрасывать случайные признаки или строить отбор на основе l1-регуляризации - отфильтровать из обучения признаки, которые получат нулевой вес при построении регрессии с l1-регуляризацией (`sklearn.linear_model.Lasso`). И всегда можно придумать что-то своё=) Попробуйте как минимум 2 различные стратегии, сравните результаты. Помог ли отбор признаков улучшить качество модели? Поясните свой ответ."
   ]
  },
  {
   "cell_type": "code",
   "execution_count": 21,
   "metadata": {
    "collapsed": false
   },
   "outputs": [
    {
     "name": "stdout",
     "output_type": "stream",
     "text": [
      "(40000, 476)\n",
      "(40000, 288)\n",
      "0.736302355336\n"
     ]
    }
   ],
   "source": [
    "from sklearn.svm import LinearSVC\n",
    "from sklearn.feature_selection import SelectFromModel\n",
    "\n",
    "print(X.shape)\n",
    "lsvc = LinearSVC(C = 0.25, penalty = \"l1\", dual=False).fit(X, y)\n",
    "model = SelectFromModel(lsvc, prefit=True)\n",
    "X_new = model.transform(X)\n",
    "print(X_new.shape)\n",
    "values = cross_validation.cross_val_score(est, X_new, y, cv = cv, scoring = 'roc_auc')\n",
    "print(values.mean())"
   ]
  },
  {
   "cell_type": "code",
   "execution_count": 22,
   "metadata": {
    "collapsed": false
   },
   "outputs": [
    {
     "name": "stdout",
     "output_type": "stream",
     "text": [
      "(40000, 476)\n",
      "(40000, 108)\n",
      "0.738139781035\n"
     ]
    }
   ],
   "source": [
    "from sklearn.ensemble import ExtraTreesClassifier\n",
    "from sklearn.feature_selection import SelectFromModel\n",
    "\n",
    "print(X.shape)\n",
    "clf = ExtraTreesClassifier()\n",
    "clf = clf.fit(X, y)\n",
    "model = SelectFromModel(clf, prefit=True)\n",
    "X_new = model.transform(X)\n",
    "print(X_new.shape)\n",
    "values = cross_validation.cross_val_score(est, X_new, y, cv = cv, scoring = 'roc_auc')\n",
    "print(values.mean())"
   ]
  },
  {
   "cell_type": "markdown",
   "metadata": {},
   "source": [
    "** Значительного улучшения отбор признаков не дает, по всей видимости признаки уже неплохо отобраны :) ** "
   ]
  },
  {
   "cell_type": "markdown",
   "metadata": {},
   "source": [
    "6\\. Подберите оптимальные параметры модели. Обратите внимание, что в зависимости от того, как вы обработали исходные данные, сделали ли балансировку классов, сколько объектов оставили в обучающей выборке и др. оптимальные значения параметров могут меняться. Возьмите наилучшее из ваших решений на текущий момент и проведите процедуру подбора параметров модели (обратите внимание на `sklearn.model_selection.GridSearchCV`) Как подбор параметров повлиял на качество модели?"
   ]
  },
  {
   "cell_type": "code",
   "execution_count": 63,
   "metadata": {
    "collapsed": false
   },
   "outputs": [
    {
     "name": "stdout",
     "output_type": "stream",
     "text": [
      "(40000, 438)\n",
      "XGBClassifier(base_score=0.5, colsample_bylevel=1, colsample_bytree=1,\n",
      "       gamma=0, learning_rate=0.1, max_delta_step=0, max_depth=3,\n",
      "       min_child_weight=1, missing=None, n_estimators=100, nthread=-1,\n",
      "       objective='binary:logistic', reg_alpha=0, reg_lambda=1,\n",
      "       scale_pos_weight=1, seed=0, silent=True, subsample=1)\n"
     ]
    }
   ],
   "source": [
    "from sklearn.model_selection import GridSearchCV as GCV\n",
    "\n",
    "print(X.shape)\n",
    "est = xgb.XGBClassifier()\n",
    "params = {'max_depth': [3, 4], 'n_estimators': [50, 100, 150]}\n",
    "clf = GCV(est, params, cv = 2)\n",
    "clf.fit(X_train, y_train)\n",
    "print(clf.best_estimator_)"
   ]
  },
  {
   "cell_type": "markdown",
   "metadata": {},
   "source": [
    "**Наилучшая модель состоит из 100 деревьев максимальной глубины 3**"
   ]
  },
  {
   "cell_type": "markdown",
   "metadata": {},
   "source": [
    "7\\. Предложите методику оценки того, какие признаки внесли наибольший вклад в модель (например, это могут быть веса в случае регрессии, а также большое количество моделей реализуют метод `feature_importances_` - оценка важности признаков). На основе предложенной методики проанализируйте, какие признаки внесли больший вклад в модель, а какие меньший?"
   ]
  },
  {
   "cell_type": "code",
   "execution_count": 64,
   "metadata": {
    "collapsed": false
   },
   "outputs": [
    {
     "name": "stdout",
     "output_type": "stream",
     "text": [
      "[(1, 'f0'), (1, 'f102'), (1, 'f105'), (1, 'f109'), (1, 'f130'), (1, 'f143'), (1, 'f160'), (1, 'f168'), (1, 'f169'), (1, 'f17'), (1, 'f175'), (1, 'f21'), (1, 'f222'), (1, 'f227'), (1, 'f233'), (1, 'f256'), (1, 'f265'), (1, 'f266'), (1, 'f268'), (1, 'f271'), (1, 'f278'), (1, 'f283'), (1, 'f286'), (1, 'f296'), (1, 'f299'), (1, 'f305'), (1, 'f315'), (1, 'f319'), (1, 'f323'), (1, 'f348'), (1, 'f349'), (1, 'f35'), (1, 'f357'), (1, 'f364'), (1, 'f387'), (1, 'f405'), (1, 'f421'), (1, 'f427'), (1, 'f429'), (1, 'f430'), (1, 'f44'), (1, 'f51'), (1, 'f56'), (1, 'f7'), (1, 'f73'), (1, 'f82'), (2, 'f104'), (2, 'f116'), (2, 'f156'), (2, 'f162'), (2, 'f172'), (2, 'f20'), (2, 'f214'), (2, 'f216'), (2, 'f355'), (2, 'f362'), (2, 'f43'), (2, 'f432'), (2, 'f67'), (2, 'f89'), (3, 'f112'), (3, 'f125'), (3, 'f129'), (3, 'f145'), (3, 'f185'), (3, 'f217'), (3, 'f226'), (3, 'f27'), (3, 'f317'), (3, 'f342'), (3, 'f347'), (3, 'f414'), (3, 'f75'), (3, 'f78'), (4, 'f13'), (4, 'f245'), (4, 'f262'), (4, 'f302'), (4, 'f374'), (4, 'f398'), (4, 'f410'), (4, 'f46'), (4, 'f64'), (4, 'f8'), (4, 'f88'), (5, 'f155'), (5, 'f18'), (5, 'f314'), (5, 'f325'), (5, 'f34'), (5, 'f401'), (5, 'f41'), (6, 'f58'), (6, 'f74'), (7, 'f281'), (7, 'f36'), (7, 'f437'), (7, 'f96'), (8, 'f83'), (9, 'f290'), (10, 'f119'), (10, 'f152'), (10, 'f237'), (10, 'f316'), (11, 'f358'), (13, 'f101'), (15, 'f132'), (15, 'f59'), (17, 'f10'), (20, 'f50'), (22, 'f110'), (23, 'f76'), (25, 'f359'), (28, 'f147'), (29, 'f77'), (35, 'f189'), (40, 'f6'), (79, 'f37')]\n"
     ]
    }
   ],
   "source": [
    "X, y, ansX = prepare_train_data(\n",
    "    churn_train_data, churn_test_data, labels, fill_zero = False,\n",
    "    filter_strategy = 'drop_less', feature_encoder = 'one_hot',\n",
    "    drop_less = 400)\n",
    "\n",
    "X_train, X_test, y_train, y_test = tts(X, y, random_state = 42, train_size = 35000)\n",
    "est = get_estimator(depth = 3, n_estimators = 100)\n",
    "weights = [1 if y_train[x] == -1 else 15 for x in range(X_train.shape[0])]\n",
    "est.fit(X_train, y_train, sample_weight = weights)\n",
    "values = est.predict_proba(ansX)\n",
    "write_ans(values[:,1])\n",
    "booster = est.booster()\n",
    "fscores = booster.get_fscore()\n",
    "print(sorted([(element[1], element[0]) for element in fscores.iteritems()]))"
   ]
  },
  {
   "cell_type": "markdown",
   "metadata": {},
   "source": [
    "8\\. Напоследок давайте посмотрим на объекты. На каких объектах достигается наибольшая ошибка классификации? Есть ли межу этими объектами что-то общее? Видны ли какие-либо закономерности? Предположите, почему наибольшая ошибка достигается именно на этих объектах. В данном случае \"наибольшую\" ошибку можно понимать как отнесение объекта с чужому классу с большой долей уверенности (с высокой вероятностью)."
   ]
  },
  {
   "cell_type": "code",
   "execution_count": 65,
   "metadata": {
    "collapsed": false
   },
   "outputs": [
    {
     "name": "stdout",
     "output_type": "stream",
     "text": [
      "(285, 92, 377)\n"
     ]
    }
   ],
   "source": [
    "values = est.predict(X_test)\n",
    "cntBoth, cntFailed, allChurn = 0, 0, 0\n",
    "for v1, v2 in zip(values, y_test):\n",
    "    if v2 == 1:\n",
    "        allChurn += 1\n",
    "    if v1 == 1 and v2 == 1:\n",
    "        cntBoth += 1\n",
    "    if v1 == -1 and v2 == 1:\n",
    "        cntFailed += 1\n",
    "print(cntBoth, cntFailed, allChurn)"
   ]
  },
  {
   "cell_type": "markdown",
   "metadata": {},
   "source": [
    "**Модель неплохо предсказывает отток пользователей, при этом с сожалению страдает точность (такая тенденция наблюдалась на графиках)**"
   ]
  },
  {
   "cell_type": "markdown",
   "metadata": {},
   "source": [
    "9\\. По итогам проведенных экспериментов постройте финальную решение - модель с наилучшим качеством. Укажите, какие преобразования данных, параметры и пр. вы выбрали для построения финальной модели."
   ]
  },
  {
   "cell_type": "code",
   "execution_count": 60,
   "metadata": {
    "collapsed": true
   },
   "outputs": [],
   "source": [
    "X, y, ansX = prepare_train_data(\n",
    "    churn_train_data, churn_test_data, labels, fill_zero = False,\n",
    "    filter_strategy = 'drop_less', feature_encoder = 'one_hot',\n",
    "    drop_less = 400)\n",
    "\n",
    "X_train, X_test, y_train, y_test = tts(X, y, random_state = 42, train_size = 35000)\n",
    "est = get_estimator(n_estimators = 100)\n",
    "weights = [1 if y_train[x] == -1 else 2 for x in range(X_train.shape[0])]\n",
    "est.fit(X_train, y_train, sample_weight = weights)\n",
    "values = est.predict_proba(ansX)\n",
    "write_ans(values[:,1])"
   ]
  },
  {
   "cell_type": "markdown",
   "metadata": {},
   "source": [
    "10\\. Подумайте, можно ли еще улучшить модель? Что для этого можно сделать? "
   ]
  },
  {
   "cell_type": "markdown",
   "metadata": {
    "collapsed": true
   },
   "source": [
    "**Ответ**\n",
    "\n",
    "Вполне возможно, что нужна дополнительная информация об объектах: \n",
    " 1. Новые признаки\n",
    " 2. Расшифровка информации о признаках: сейчас они обфусцированы. Это может помочь с дополнительной обработкой данных.\n"
   ]
  },
  {
   "cell_type": "code",
   "execution_count": null,
   "metadata": {
    "collapsed": true
   },
   "outputs": [],
   "source": []
  }
 ],
 "metadata": {
  "anaconda-cloud": {},
  "kernelspec": {
   "display_name": "Python [conda root]",
   "language": "python",
   "name": "conda-root-py"
  },
  "language_info": {
   "codemirror_mode": {
    "name": "ipython",
    "version": 2
   },
   "file_extension": ".py",
   "mimetype": "text/x-python",
   "name": "python",
   "nbconvert_exporter": "python",
   "pygments_lexer": "ipython2",
   "version": "2.7.12"
  }
 },
 "nbformat": 4,
 "nbformat_minor": 1
}
